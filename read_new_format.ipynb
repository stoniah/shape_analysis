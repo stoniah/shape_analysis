{
 "cells": [
  {
   "cell_type": "code",
   "execution_count": 2,
   "id": "c9e97bba-bb55-4a60-a81c-93420d3efeb7",
   "metadata": {},
   "outputs": [],
   "source": [
    "import numpy as np\n",
    "import matplotlib.pyplot as plt\n",
    "from pathlib import Path"
   ]
  },
  {
   "cell_type": "code",
   "execution_count": 83,
   "id": "c1fceb6d-64ae-4a28-a25c-765d0cfb6e60",
   "metadata": {},
   "outputs": [],
   "source": [
    "def parse_filename(filename):\n",
    "    patient_code, operation_status, wall_type = filename.split(\"_\")[-3:]\n",
    "    return patient_code, operation_status, wall_type\n",
    "\n",
    "\n",
    "def get_length_from_segment_coordinates(segment_coordinates):\n",
    "    \"\"\"\n",
    "    coords: listlike of 4 numbers x1,y1,x2,y2\n",
    "    returns: squared distance between segment endpoints\n",
    "    \"\"\"\n",
    "    p1, p2 = np.reshape(segment_coordinates, (2, 2))\n",
    "    diff = p2 - p1\n",
    "    dot = np.dot(diff, diff)\n",
    "    return dot\n",
    "\n",
    "\n",
    "def parse_header(string):\n",
    "    numbers = list(map(int, string.split()))\n",
    "    end_systolic_id = numbers[0]\n",
    "    calibration_segment_coordinates = numbers[1:]\n",
    "    pixels_per_cm = get_length_from_segment_coordinates(calibration_segment_coordinates)\n",
    "    header_info = {\"end_systolic_id\": end_systolic_id, \"pixels_per_cm\": pixels_per_cm}\n",
    "    return header_info\n",
    "\n",
    "\n",
    "def read_contour_file(path):\n",
    "    patient_code, operation_status, wall_type = parse_filename(path.stem)\n",
    "    with open(path, \"r\") as f:\n",
    "        header = f.readline()\n",
    "        header_info = parse_header(header)\n",
    "    coordinates = np.loadtxt(path, skiprows=1).astype(int)\n",
    "    coordinates = coordinates.reshape(coordinates.shape[0], -1, 2)[:, :, ::-1]\n",
    "    coordinates = coordinates.transpose(0, 2, 1)\n",
    "    contour_info = header_info.copy()\n",
    "    contour_info[\"coordinates\"] = coordinates\n",
    "    return contour_info"
   ]
  },
  {
   "cell_type": "code",
   "execution_count": 84,
   "id": "c0b8be37-7112-45ed-9a1e-2fcdf2cd039b",
   "metadata": {},
   "outputs": [],
   "source": [
    "files = sorted(Path(\"../raw_data/2022/examples/\").iterdir())"
   ]
  },
  {
   "cell_type": "code",
   "execution_count": 85,
   "id": "3288e9dd-518d-417e-8bf7-a88fd387b621",
   "metadata": {},
   "outputs": [],
   "source": [
    "contours = [read_contour_file(f) for f in files]"
   ]
  },
  {
   "cell_type": "code",
   "execution_count": 86,
   "id": "4ec9ac28-19cd-4045-aed2-add9641cb717",
   "metadata": {},
   "outputs": [
    {
     "data": {
      "text/plain": [
       "{'end_systolic_id': 19,\n",
       " 'pixels_per_cm': 365,\n",
       " 'coordinates': array([[[340, 322, 317, ..., 485, 499, 475],\n",
       "         [431, 383, 326, ..., 288, 368, 440]],\n",
       " \n",
       "        [[341, 326, 320, ..., 485, 499, 475],\n",
       "         [431, 383, 325, ..., 288, 368, 440]],\n",
       " \n",
       "        [[339, 330, 323, ..., 485, 499, 475],\n",
       "         [431, 383, 325, ..., 288, 368, 440]],\n",
       " \n",
       "        ...,\n",
       " \n",
       "        [[349, 316, 313, ..., 484, 504, 482],\n",
       "         [442, 395, 328, ..., 286, 367, 433]],\n",
       " \n",
       "        [[349, 316, 314, ..., 484, 504, 482],\n",
       "         [442, 395, 327, ..., 286, 367, 433]],\n",
       " \n",
       "        [[348, 317, 315, ..., 484, 504, 482],\n",
       "         [440, 392, 326, ..., 286, 367, 433]]])}"
      ]
     },
     "execution_count": 86,
     "metadata": {},
     "output_type": "execute_result"
    }
   ],
   "source": [
    "contours[1]"
   ]
  },
  {
   "cell_type": "code",
   "execution_count": 87,
   "id": "079b6a5f-95b6-4d95-bd1b-1d353ec89ce5",
   "metadata": {},
   "outputs": [],
   "source": [
    "coords = contours[0][\"coordinates\"]"
   ]
  },
  {
   "cell_type": "code",
   "execution_count": 88,
   "id": "f7a2757e-4736-4dc7-bfa9-6b16ff908ca2",
   "metadata": {},
   "outputs": [
    {
     "data": {
      "text/plain": [
       "(56, 2, 9)"
      ]
     },
     "execution_count": 88,
     "metadata": {},
     "output_type": "execute_result"
    }
   ],
   "source": [
    "coords.shape"
   ]
  },
  {
   "cell_type": "code",
   "execution_count": 120,
   "id": "51cf4319-34f8-46c6-91b2-fbb4d334a338",
   "metadata": {},
   "outputs": [
    {
     "data": {
      "image/png": "[encoded data removed]",
      "text/plain": [
       "<Figure size 720x720 with 1 Axes>"
      ]
     },
     "metadata": {
      "needs_background": "light"
     },
     "output_type": "display_data"
    }
   ],
   "source": [
    "plt.figure(figsize=(10, 10))\n",
    "for cont in contours:\n",
    "    coords = cont[\"coordinates\"].copy()\n",
    "    com = coords.mean(axis=(0, 2), keepdims=True)\n",
    "    coords = coords - com\n",
    "    t = np.arange(coords.shape[0])\n",
    "    for c in coords.transpose(2, 1, 0):\n",
    "        plt.scatter(*(c), c=t, cmap=\"viridis\", s=1)\n",
    "plt.scatter(0, 0)\n",
    "plt.gca().set_aspect(\"equal\")"
   ]
  },
  {
   "cell_type": "code",
   "execution_count": 91,
   "id": "5d3de01f-ef4b-4e74-ac0b-869019425f35",
   "metadata": {},
   "outputs": [],
   "source": [
    "import scipy.ndimage"
   ]
  },
  {
   "cell_type": "code",
   "execution_count": 105,
   "id": "4ca9d183-ea53-491d-ac09-8d888110f2b8",
   "metadata": {},
   "outputs": [
    {
     "data": {
      "text/plain": [
       "(1, 2, 1)"
      ]
     },
     "execution_count": 105,
     "metadata": {},
     "output_type": "execute_result"
    }
   ],
   "source": [
    "com.shape"
   ]
  },
  {
   "cell_type": "code",
   "execution_count": null,
   "id": "30e00e55-04dc-445d-9565-0ce86b2fe0dd",
   "metadata": {},
   "outputs": [],
   "source": []
  }
 ],
 "metadata": {
  "kernelspec": {
   "display_name": "Python 3 (ipykernel)",
   "language": "python",
   "name": "python3"
  },
  "language_info": {
   "codemirror_mode": {
    "name": "ipython",
    "version": 3
   },
   "file_extension": ".py",
   "mimetype": "text/x-python",
   "name": "python",
   "nbconvert_exporter": "python",
   "pygments_lexer": "ipython3",
   "version": "3.9.9"
  }
 },
 "nbformat": 4,
 "nbformat_minor": 5
}
